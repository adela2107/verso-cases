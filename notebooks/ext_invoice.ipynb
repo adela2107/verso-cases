{
  "nbformat": 4,
  "nbformat_minor": 0,
  "metadata": {
    "colab": {
      "provenance": []
    },
    "kernelspec": {
      "name": "python3",
      "display_name": "Python 3"
    },
    "language_info": {
      "name": "python"
    }
  },
  "cells": [
    {
      "cell_type": "markdown",
      "source": [],
      "metadata": {
        "id": "G2DIYNo6uMWD"
      }
    },
    {
      "cell_type": "markdown",
      "source": [
        "# **Extract structures information from uploaded invoices**"
      ],
      "metadata": {
        "id": "p4a6zjqS3kTv"
      }
    },
    {
      "cell_type": "markdown",
      "source": [
        "# 1. Environment and Authentication Setup\n",
        "* I typically use [poetry](https://python-poetry.org/docs/dependency-specification/) for managing dependencies, but since we’re working in Google Colab and time is limited, I installed the required packages directly using %pip\n",
        "* Use the google-genai SDK to interact with Gemini models and fetch the API key securely from Colab's userdata.\n",
        "* To get started with the Gemini API:\n",
        "    1. ✅ You only need a Google account (Google Cloud setup is not required)\n",
        "    2. 🔗 Visit [AI Studio](https://aistudio.google.com/prompts/new_chat)\n",
        "    3. 🔐 Click “Get API Key” (top-left)\n",
        "    4. ➕ Create a new key and store it in Colab secrets under the name \"GOOGLE_API_KEY\"\n",
        "\n",
        "\n"
      ],
      "metadata": {
        "id": "G_hSIXTefFvI"
      }
    },
    {
      "cell_type": "code",
      "execution_count": 22,
      "metadata": {
        "colab": {
          "base_uri": "https://localhost:8080/"
        },
        "id": "tlzxT2WCbBBn",
        "outputId": "625cdc9a-9353-424b-b057-3e417e478c4b"
      },
      "outputs": [
        {
          "output_type": "stream",
          "name": "stdout",
          "text": [
            "Requirement already satisfied: google-genai>=1 in /usr/local/lib/python3.11/dist-packages (1.21.1)\n",
            "Requirement already satisfied: anyio<5.0.0,>=4.8.0 in /usr/local/lib/python3.11/dist-packages (from google-genai>=1) (4.9.0)\n",
            "Requirement already satisfied: google-auth<3.0.0,>=2.14.1 in /usr/local/lib/python3.11/dist-packages (from google-genai>=1) (2.38.0)\n",
            "Requirement already satisfied: httpx<1.0.0,>=0.28.1 in /usr/local/lib/python3.11/dist-packages (from google-genai>=1) (0.28.1)\n",
            "Requirement already satisfied: pydantic<3.0.0,>=2.0.0 in /usr/local/lib/python3.11/dist-packages (from google-genai>=1) (2.11.7)\n",
            "Requirement already satisfied: requests<3.0.0,>=2.28.1 in /usr/local/lib/python3.11/dist-packages (from google-genai>=1) (2.32.3)\n",
            "Requirement already satisfied: tenacity<9.0.0,>=8.2.3 in /usr/local/lib/python3.11/dist-packages (from google-genai>=1) (8.5.0)\n",
            "Requirement already satisfied: websockets<15.1.0,>=13.0.0 in /usr/local/lib/python3.11/dist-packages (from google-genai>=1) (15.0.1)\n",
            "Requirement already satisfied: typing-extensions<5.0.0,>=4.11.0 in /usr/local/lib/python3.11/dist-packages (from google-genai>=1) (4.14.0)\n",
            "Requirement already satisfied: idna>=2.8 in /usr/local/lib/python3.11/dist-packages (from anyio<5.0.0,>=4.8.0->google-genai>=1) (3.10)\n",
            "Requirement already satisfied: sniffio>=1.1 in /usr/local/lib/python3.11/dist-packages (from anyio<5.0.0,>=4.8.0->google-genai>=1) (1.3.1)\n",
            "Requirement already satisfied: cachetools<6.0,>=2.0.0 in /usr/local/lib/python3.11/dist-packages (from google-auth<3.0.0,>=2.14.1->google-genai>=1) (5.5.2)\n",
            "Requirement already satisfied: pyasn1-modules>=0.2.1 in /usr/local/lib/python3.11/dist-packages (from google-auth<3.0.0,>=2.14.1->google-genai>=1) (0.4.2)\n",
            "Requirement already satisfied: rsa<5,>=3.1.4 in /usr/local/lib/python3.11/dist-packages (from google-auth<3.0.0,>=2.14.1->google-genai>=1) (4.9.1)\n",
            "Requirement already satisfied: certifi in /usr/local/lib/python3.11/dist-packages (from httpx<1.0.0,>=0.28.1->google-genai>=1) (2025.6.15)\n",
            "Requirement already satisfied: httpcore==1.* in /usr/local/lib/python3.11/dist-packages (from httpx<1.0.0,>=0.28.1->google-genai>=1) (1.0.9)\n",
            "Requirement already satisfied: h11>=0.16 in /usr/local/lib/python3.11/dist-packages (from httpcore==1.*->httpx<1.0.0,>=0.28.1->google-genai>=1) (0.16.0)\n",
            "Requirement already satisfied: annotated-types>=0.6.0 in /usr/local/lib/python3.11/dist-packages (from pydantic<3.0.0,>=2.0.0->google-genai>=1) (0.7.0)\n",
            "Requirement already satisfied: pydantic-core==2.33.2 in /usr/local/lib/python3.11/dist-packages (from pydantic<3.0.0,>=2.0.0->google-genai>=1) (2.33.2)\n",
            "Requirement already satisfied: typing-inspection>=0.4.0 in /usr/local/lib/python3.11/dist-packages (from pydantic<3.0.0,>=2.0.0->google-genai>=1) (0.4.1)\n",
            "Requirement already satisfied: charset-normalizer<4,>=2 in /usr/local/lib/python3.11/dist-packages (from requests<3.0.0,>=2.28.1->google-genai>=1) (3.4.2)\n",
            "Requirement already satisfied: urllib3<3,>=1.21.1 in /usr/local/lib/python3.11/dist-packages (from requests<3.0.0,>=2.28.1->google-genai>=1) (2.4.0)\n",
            "Requirement already satisfied: pyasn1<0.7.0,>=0.6.1 in /usr/local/lib/python3.11/dist-packages (from pyasn1-modules>=0.2.1->google-auth<3.0.0,>=2.14.1->google-genai>=1) (0.6.1)\n",
            "Requirement already satisfied: gradio in /usr/local/lib/python3.11/dist-packages (5.31.0)\n",
            "Requirement already satisfied: aiofiles<25.0,>=22.0 in /usr/local/lib/python3.11/dist-packages (from gradio) (24.1.0)\n",
            "Requirement already satisfied: anyio<5.0,>=3.0 in /usr/local/lib/python3.11/dist-packages (from gradio) (4.9.0)\n",
            "Requirement already satisfied: fastapi<1.0,>=0.115.2 in /usr/local/lib/python3.11/dist-packages (from gradio) (0.115.13)\n",
            "Requirement already satisfied: ffmpy in /usr/local/lib/python3.11/dist-packages (from gradio) (0.6.0)\n",
            "Requirement already satisfied: gradio-client==1.10.1 in /usr/local/lib/python3.11/dist-packages (from gradio) (1.10.1)\n",
            "Requirement already satisfied: groovy~=0.1 in /usr/local/lib/python3.11/dist-packages (from gradio) (0.1.2)\n",
            "Requirement already satisfied: httpx>=0.24.1 in /usr/local/lib/python3.11/dist-packages (from gradio) (0.28.1)\n",
            "Requirement already satisfied: huggingface-hub>=0.28.1 in /usr/local/lib/python3.11/dist-packages (from gradio) (0.33.0)\n",
            "Requirement already satisfied: jinja2<4.0 in /usr/local/lib/python3.11/dist-packages (from gradio) (3.1.6)\n",
            "Requirement already satisfied: markupsafe<4.0,>=2.0 in /usr/local/lib/python3.11/dist-packages (from gradio) (3.0.2)\n",
            "Requirement already satisfied: numpy<3.0,>=1.0 in /usr/local/lib/python3.11/dist-packages (from gradio) (2.0.2)\n",
            "Requirement already satisfied: orjson~=3.0 in /usr/local/lib/python3.11/dist-packages (from gradio) (3.10.18)\n",
            "Requirement already satisfied: packaging in /usr/local/lib/python3.11/dist-packages (from gradio) (24.2)\n",
            "Requirement already satisfied: pandas<3.0,>=1.0 in /usr/local/lib/python3.11/dist-packages (from gradio) (2.2.2)\n",
            "Requirement already satisfied: pillow<12.0,>=8.0 in /usr/local/lib/python3.11/dist-packages (from gradio) (11.2.1)\n",
            "Requirement already satisfied: pydantic<2.12,>=2.0 in /usr/local/lib/python3.11/dist-packages (from gradio) (2.11.7)\n",
            "Requirement already satisfied: pydub in /usr/local/lib/python3.11/dist-packages (from gradio) (0.25.1)\n",
            "Requirement already satisfied: python-multipart>=0.0.18 in /usr/local/lib/python3.11/dist-packages (from gradio) (0.0.20)\n",
            "Requirement already satisfied: pyyaml<7.0,>=5.0 in /usr/local/lib/python3.11/dist-packages (from gradio) (6.0.2)\n",
            "Requirement already satisfied: ruff>=0.9.3 in /usr/local/lib/python3.11/dist-packages (from gradio) (0.12.0)\n",
            "Requirement already satisfied: safehttpx<0.2.0,>=0.1.6 in /usr/local/lib/python3.11/dist-packages (from gradio) (0.1.6)\n",
            "Requirement already satisfied: semantic-version~=2.0 in /usr/local/lib/python3.11/dist-packages (from gradio) (2.10.0)\n",
            "Requirement already satisfied: starlette<1.0,>=0.40.0 in /usr/local/lib/python3.11/dist-packages (from gradio) (0.46.2)\n",
            "Requirement already satisfied: tomlkit<0.14.0,>=0.12.0 in /usr/local/lib/python3.11/dist-packages (from gradio) (0.13.3)\n",
            "Requirement already satisfied: typer<1.0,>=0.12 in /usr/local/lib/python3.11/dist-packages (from gradio) (0.16.0)\n",
            "Requirement already satisfied: typing-extensions~=4.0 in /usr/local/lib/python3.11/dist-packages (from gradio) (4.14.0)\n",
            "Requirement already satisfied: uvicorn>=0.14.0 in /usr/local/lib/python3.11/dist-packages (from gradio) (0.34.3)\n",
            "Requirement already satisfied: fsspec in /usr/local/lib/python3.11/dist-packages (from gradio-client==1.10.1->gradio) (2025.3.2)\n",
            "Requirement already satisfied: websockets<16.0,>=10.0 in /usr/local/lib/python3.11/dist-packages (from gradio-client==1.10.1->gradio) (15.0.1)\n",
            "Requirement already satisfied: idna>=2.8 in /usr/local/lib/python3.11/dist-packages (from anyio<5.0,>=3.0->gradio) (3.10)\n",
            "Requirement already satisfied: sniffio>=1.1 in /usr/local/lib/python3.11/dist-packages (from anyio<5.0,>=3.0->gradio) (1.3.1)\n",
            "Requirement already satisfied: certifi in /usr/local/lib/python3.11/dist-packages (from httpx>=0.24.1->gradio) (2025.6.15)\n",
            "Requirement already satisfied: httpcore==1.* in /usr/local/lib/python3.11/dist-packages (from httpx>=0.24.1->gradio) (1.0.9)\n",
            "Requirement already satisfied: h11>=0.16 in /usr/local/lib/python3.11/dist-packages (from httpcore==1.*->httpx>=0.24.1->gradio) (0.16.0)\n",
            "Requirement already satisfied: filelock in /usr/local/lib/python3.11/dist-packages (from huggingface-hub>=0.28.1->gradio) (3.18.0)\n",
            "Requirement already satisfied: requests in /usr/local/lib/python3.11/dist-packages (from huggingface-hub>=0.28.1->gradio) (2.32.3)\n",
            "Requirement already satisfied: tqdm>=4.42.1 in /usr/local/lib/python3.11/dist-packages (from huggingface-hub>=0.28.1->gradio) (4.67.1)\n",
            "Requirement already satisfied: hf-xet<2.0.0,>=1.1.2 in /usr/local/lib/python3.11/dist-packages (from huggingface-hub>=0.28.1->gradio) (1.1.5)\n",
            "Requirement already satisfied: python-dateutil>=2.8.2 in /usr/local/lib/python3.11/dist-packages (from pandas<3.0,>=1.0->gradio) (2.9.0.post0)\n",
            "Requirement already satisfied: pytz>=2020.1 in /usr/local/lib/python3.11/dist-packages (from pandas<3.0,>=1.0->gradio) (2025.2)\n",
            "Requirement already satisfied: tzdata>=2022.7 in /usr/local/lib/python3.11/dist-packages (from pandas<3.0,>=1.0->gradio) (2025.2)\n",
            "Requirement already satisfied: annotated-types>=0.6.0 in /usr/local/lib/python3.11/dist-packages (from pydantic<2.12,>=2.0->gradio) (0.7.0)\n",
            "Requirement already satisfied: pydantic-core==2.33.2 in /usr/local/lib/python3.11/dist-packages (from pydantic<2.12,>=2.0->gradio) (2.33.2)\n",
            "Requirement already satisfied: typing-inspection>=0.4.0 in /usr/local/lib/python3.11/dist-packages (from pydantic<2.12,>=2.0->gradio) (0.4.1)\n",
            "Requirement already satisfied: click>=8.0.0 in /usr/local/lib/python3.11/dist-packages (from typer<1.0,>=0.12->gradio) (8.2.1)\n",
            "Requirement already satisfied: shellingham>=1.3.0 in /usr/local/lib/python3.11/dist-packages (from typer<1.0,>=0.12->gradio) (1.5.4)\n",
            "Requirement already satisfied: rich>=10.11.0 in /usr/local/lib/python3.11/dist-packages (from typer<1.0,>=0.12->gradio) (13.9.4)\n",
            "Requirement already satisfied: six>=1.5 in /usr/local/lib/python3.11/dist-packages (from python-dateutil>=2.8.2->pandas<3.0,>=1.0->gradio) (1.17.0)\n",
            "Requirement already satisfied: markdown-it-py>=2.2.0 in /usr/local/lib/python3.11/dist-packages (from rich>=10.11.0->typer<1.0,>=0.12->gradio) (3.0.0)\n",
            "Requirement already satisfied: pygments<3.0.0,>=2.13.0 in /usr/local/lib/python3.11/dist-packages (from rich>=10.11.0->typer<1.0,>=0.12->gradio) (2.19.2)\n",
            "Requirement already satisfied: charset-normalizer<4,>=2 in /usr/local/lib/python3.11/dist-packages (from requests->huggingface-hub>=0.28.1->gradio) (3.4.2)\n",
            "Requirement already satisfied: urllib3<3,>=1.21.1 in /usr/local/lib/python3.11/dist-packages (from requests->huggingface-hub>=0.28.1->gradio) (2.4.0)\n",
            "Requirement already satisfied: mdurl~=0.1 in /usr/local/lib/python3.11/dist-packages (from markdown-it-py>=2.2.0->rich>=10.11.0->typer<1.0,>=0.12->gradio) (0.1.2)\n"
          ]
        }
      ],
      "source": [
        "%pip install \"google-genai>=1\"\n",
        "%pip install gradio"
      ]
    },
    {
      "cell_type": "code",
      "source": [
        "from google import genai\n",
        "from google.colab import userdata\n",
        "\n",
        "# Create a client\n",
        "api_key = userdata.get('GOOGLE_API_KEY')\n",
        "client = genai.Client(api_key=api_key)\n",
        "\n",
        "# Define the model you are going to use\n",
        "model_id =  \"gemini-2.0-flash\" # or \"gemini-2.0-flash-lite-preview-02-05\"  , \"gemini-2.0-pro-exp-02-05\"\n",
        "\n"
      ],
      "metadata": {
        "id": "YNFMN9mufuQb"
      },
      "execution_count": 23,
      "outputs": []
    },
    {
      "cell_type": "markdown",
      "source": [
        "# 2. Work with PDFs and other fils\n",
        "Gemini models can process not only text but also images, PDFs, and even videos. These files can be passed to the model either as base64-encoded strings or more efficiently using the Files API.\n",
        "The google-genai Python SDK provides convenient methods like .upload() and .delete() to manage your files.\n",
        "\n",
        "Here’s how it works:\n",
        "\n",
        "* First, upload your file using the client’s upload() method.\n",
        "* After uploading, you’ll receive a file reference (File object) that can be used directly in your prompt.\n",
        "\n",
        "ℹ️ Important Notes:\n",
        "* The Files API allows you to store up to 20 GB of data per project.\n",
        "* Individual files can be up to 2 GB in size.\n",
        "* Files are automatically deleted after 48 hours.\n",
        "* Files are not downloadable, but they remain accessible through your API key during that time.\n",
        "* Uploading files via the API is currently free of charge."
      ],
      "metadata": {
        "id": "5S_XskjGh3kH"
      }
    },
    {
      "cell_type": "code",
      "source": [
        "resume_pdf = client.files.upload(file=\"/content/A.Pcv (1).pdf\", config={'display_name': 'invoice'})\n",
        ""
      ],
      "metadata": {
        "id": "hz6X1gAhfuFe"
      },
      "execution_count": 24,
      "outputs": []
    },
    {
      "cell_type": "code",
      "source": [
        "file_size = client.models.count_tokens(model=model_id,contents=resume_pdf)\n",
        "print(f'File: {resume_pdf.display_name} equals to {file_size.total_tokens} tokens')"
      ],
      "metadata": {
        "colab": {
          "base_uri": "https://localhost:8080/"
        },
        "id": "qBRS_qGLft6i",
        "outputId": "d1c1da7a-cf71-4ad3-a0b8-b22df7aed23f"
      },
      "execution_count": 25,
      "outputs": [
        {
          "output_type": "stream",
          "name": "stdout",
          "text": [
            "File: invoice equals to 1549 tokens\n"
          ]
        }
      ]
    },
    {
      "cell_type": "markdown",
      "source": [
        "# 3. Structured Outputs with Gemini 2.0 and Pydantic\n",
        "Gemini 2.0 supports Structured Outputs, a powerful feature that ensures the model returns responses in a predefined and strictly validated format, such as a JSON schema.\n",
        "\n",
        "This allows you to:\n",
        "* ✅ Enforce consistency in model outputs\n",
        "* ✅ Integrate results seamlessly into your application logic\n",
        "* ✅ Avoid fragile post-processing or unreliable parsing\n",
        "\n",
        "To achieve this, we use **Pydantic**, a Python library for data validation and schema enforcement. By defining a schema with **BaseModel**, we tell Gemini exactly how the output should be structured.\n",
        "\n"
      ],
      "metadata": {
        "id": "De6jxOVvibeq"
      }
    },
    {
      "cell_type": "code",
      "source": [
        "from pydantic import BaseModel, Field\n",
        "\n",
        "# Define a Pydantic model\n",
        "# Use the Field class to add a description and default value to provide more context to the model\n",
        "class Topic(BaseModel):\n",
        "    name: str = Field(description=\"The name of the topic\")\n",
        "\n",
        "class Person(BaseModel):\n",
        "    first_name: str = Field(description=\"The first name of the person\")\n",
        "    last_name: str = Field(description=\"The last name of the person\")\n",
        "    email: str = Field(description=\"The email address of a person\")\n",
        "    work_experience: list[Topic] = Field(description=\"The work experience, if not provided please return an empty list\")\n",
        "    education: list[Topic] = Field(description=\"The education, if not provided please return an empty list\")\n",
        "\n",
        "# Define the prompt\n",
        "prompt = (\n",
        "    \"Adelajda Papa is an accomplished Albanian professional currently based in Berlin, Germany. \"\n",
        "    \"She works as a Senior Data Scientist at the Federal Ministry of Finance (BDR), where she leads projects at the intersection of artificial intelligence and public sector innovation. \"\n",
        "    \"She holds a Master’s degree in Finance and has extensive experience in data science, machine learning, and applied AI for impact-driven use cases.\"\n",
        ")\n",
        "# Generate a response using the Person model\n",
        "response = client.models.generate_content(model=model_id, contents=prompt, config={'response_mime_type': 'application/json', 'response_schema': Person})\n",
        "\n",
        "# print the response as a json string\n",
        "print(response.text)"
      ],
      "metadata": {
        "colab": {
          "base_uri": "https://localhost:8080/"
        },
        "id": "9Nus_jIMieo9",
        "outputId": "321c2969-20d6-4c0a-bfcd-7135fc76b0a5"
      },
      "execution_count": 26,
      "outputs": [
        {
          "output_type": "stream",
          "name": "stdout",
          "text": [
            "{\n",
            "  \"first_name\": \"Adelajda\",\n",
            "  \"last_name\": \"Papa\",\n",
            "  \"email\": \"unknown\",\n",
            "  \"work_experience\": [\n",
            "    {\n",
            "      \"name\": \"Senior Data Scientist at the Federal Ministry of Finance (BDR)\"\n",
            "    }\n",
            "  ],\n",
            "  \"education\": [\n",
            "    {\n",
            "      \"name\": \"Master’s degree in Finance\"\n",
            "    }\n",
            "  ]\n",
            "}\n"
          ]
        }
      ]
    },
    {
      "cell_type": "code",
      "source": [
        "# sdk automatically converts the response to the pydantic model\n",
        "Adelajda: Person = response.parsed\n",
        "\n",
        "# access an attribute of the json response\n",
        "print(f\"{Adelajda}\")\n",
        ""
      ],
      "metadata": {
        "colab": {
          "base_uri": "https://localhost:8080/"
        },
        "id": "y4KJ8ZRJineG",
        "outputId": "80c8f633-b684-4e6f-a459-38b72fc649a1"
      },
      "execution_count": 27,
      "outputs": [
        {
          "output_type": "stream",
          "name": "stdout",
          "text": [
            "first_name='Adelajda' last_name='Papa' email='unknown' work_experience=[Topic(name='Senior Data Scientist at the Federal Ministry of Finance (BDR)')] education=[Topic(name='Master’s degree in Finance')]\n"
          ]
        }
      ]
    },
    {
      "cell_type": "markdown",
      "source": [
        "# 4. Extract Structured Data from PDFs Using Gemini 2.0\n",
        "To extract structured information from invoice files, I combined the Files API with the structured output feature. I created a reusable function that accepts a file path and a Pydantic model.\n",
        "\n",
        "The function works in three steps:\n",
        "* It uploads the file to Gemini using the Files API.\n",
        "* It sends a prompt along with the uploaded file and the defined schema to the Gemini model.\n",
        "* It returns the structured response, parsed directly into a Python object that matches the schema.\n",
        "\n",
        "This approach allows me to process PDFs or images of invoices and receive clean, structured JSON output without the need for post-processing."
      ],
      "metadata": {
        "id": "gT1-O-2jiwsw"
      }
    },
    {
      "cell_type": "code",
      "source": [
        "def extract_structured_data(file_path: str, model: BaseModel):\n",
        "    # Upload the file to the File API\n",
        "    file = client.files.upload(file=file_path, config={'display_name': file_path.split('/')[-1].split('.')[0]})\n",
        "    # Generate a structured response using the Gemini API\n",
        "    prompt = f\"Extract the structured data from the following PDF file\"\n",
        "    response = client.models.generate_content(model=model_id, contents=[prompt, file], config={'response_mime_type': 'application/json', 'response_schema': model})\n",
        "    # Convert the response to the pydantic model and return it\n",
        "    return response.parsed"
      ],
      "metadata": {
        "id": "FW03VV9Oit8v"
      },
      "execution_count": 28,
      "outputs": []
    },
    {
      "cell_type": "code",
      "source": [
        "from pydantic import BaseModel, Field\n",
        "\n",
        "class Item(BaseModel):\n",
        "    description: str = Field(description=\"The description of the item\")\n",
        "    quantity: float = Field(description=\"The Qty of the item\")\n",
        "    gross_worth: float = Field(description=\"The gross worth of the item\")\n",
        "\n",
        "class Invoice(BaseModel):\n",
        "    \"\"\"Extract the invoice number, date and all list items with description, quantity and gross worth and the total gross worth.\"\"\"\n",
        "    invoice_number: str = Field(description=\"The invoice number e.g. 1234567890\")\n",
        "    date: str = Field(description=\"The date of the invoice e.g. 2024-01-01\")\n",
        "    items: list[Item] = Field(description=\"The list of items with description, quantity and gross worth\")\n",
        "    total_gross_worth: float = Field(description=\"The total gross worth of the invoice\")\n",
        "\n",
        "\n",
        "result = extract_structured_data(\"/content/sample-invoice.pdf\", Invoice)\n",
        "print(type(result))\n",
        "print(f\"Extracted Invoice: {result.invoice_number} on {result.date} with total gross worth {result.total_gross_worth}\")\n",
        "for item in result.items:\n",
        "    print(f\"Item: {item.description} with quantity {item.quantity} and gross worth {item.gross_worth}\")\n",
        ""
      ],
      "metadata": {
        "colab": {
          "base_uri": "https://localhost:8080/"
        },
        "id": "7AHurFiwi1Bx",
        "outputId": "5e7bb2b0-5e10-444f-cf0c-2b0dbcac416d"
      },
      "execution_count": 29,
      "outputs": [
        {
          "output_type": "stream",
          "name": "stdout",
          "text": [
            "<class '__main__.Invoice'>\n",
            "Extracted Invoice: 123100401 on 1. März 2024 with total gross worth 453.53\n",
            "Item: Basic Fee wmView with quantity 1.0 and gross worth 130.0\n",
            "Item: Basis fee for additional user accounts with quantity 0.0 and gross worth 0.0\n",
            "Item: Basic Fee wmPos with quantity 0.0 and gross worth 0.0\n",
            "Item: Basic Fee wmGuide with quantity 0.0 and gross worth 0.0\n",
            "Item: Change of user accounts with quantity 0.0 and gross worth 0.0\n",
            "Item: Transaction Fee T1 with quantity 14.0 and gross worth 8.12\n",
            "Item: Transaction Fee T2 with quantity 0.0 and gross worth 0.0\n",
            "Item: Transaction Fee T3 with quantity 162.0 and gross worth 243.0\n",
            "Item: Transaction Fee T4 with quantity 0.0 and gross worth 0.0\n",
            "Item: Transaction Fee T5 with quantity 0.0 and gross worth 0.0\n",
            "Item: Transaction Fee T6 with quantity 0.0 and gross worth 0.0\n",
            "Item: Transaction Fee G1 with quantity 0.0 and gross worth 0.0\n",
            "Item: Transaction Fee G2 with quantity 0.0 and gross worth 0.0\n",
            "Item: Transaction Fee G3 with quantity 0.0 and gross worth 0.0\n",
            "Item: Transaction Fee G4 with quantity 0.0 and gross worth 0.0\n",
            "Item: Transaction Fee G5 with quantity 0.0 and gross worth 0.0\n",
            "Item: Transaction Fee G6 with quantity 0.0 and gross worth 0.0\n"
          ]
        }
      ]
    },
    {
      "cell_type": "markdown",
      "source": [
        "# 5. 🚀 Forward\n",
        "To make the parser more accurate and production-ready, I extended the project with the following improvements:\n",
        "\n",
        "\n",
        "* ✅ Updated the Invoice schema with more precise and realistic fields, such as:\n",
        "  * Full customer and business contact information\n",
        "  * Detailed line items (description, quantity, unit price, subtotal)\n",
        "  * Tax and total calculation\n",
        "  * Optional fields like payment method or due date\n",
        "* ✍️ Refined the system prompt to be clearer and task-specific. This helps guide the model toward exactly what should be extracted, improving output quality and reliability.\n",
        "\n",
        "* 🖥 Built an interactive Gradio app, allowing users to:\n",
        "  * Upload PDF or image invoices\n",
        "  * Preview the file\n",
        "  * Instantly see structured JSON output\n",
        "* 📊 Tested the system with real-world invoice layouts, using examples from [Roboflow](https://universe.roboflow.com) Universe. This dataset provides a variety of document styles for more robust evaluation."
      ],
      "metadata": {
        "id": "PIaUc_YajEUE"
      }
    },
    {
      "cell_type": "code",
      "source": [
        "# Create a client\n",
        "api_key = userdata.get('GOOGLE_API_KEY')\n",
        "client = genai.Client(api_key=api_key)\n",
        "\n",
        "# Define the model you are going to use\n",
        "model_id =  \"gemini-2.0-flash-lite-preview-02-05\" # or \"gemini-2.0-pro-exp-02-05\"\n",
        ""
      ],
      "metadata": {
        "id": "Oi0bfohLjG4X"
      },
      "execution_count": 36,
      "outputs": []
    },
    {
      "cell_type": "code",
      "source": [
        "from pydantic import BaseModel, Field\n",
        "from datetime import date\n",
        "from typing import List, Optional\n",
        "\n",
        "class ContactInformation(BaseModel):\n",
        "    name: str = Field(description=\"Name of the person or business\")\n",
        "    address: str = Field(description=\"Address details\")\n",
        "    phone: Optional[str] = Field(default=None, description=\"Phone number\")\n",
        "    email: Optional[str] = Field(default=None, description=\"Email address\")\n",
        "\n",
        "class Item(BaseModel):\n",
        "    description: str = Field(description=\"Description of the item\")\n",
        "    quantity: float = Field(description=\"Quantity of the item\")\n",
        "    unit_price: float = Field(description=\"Price per unit of the item\")\n",
        "    subtotal: float = Field(description=\"Subtotal for this item\")\n",
        "\n",
        "class Invoice_2(BaseModel):\n",
        "    invoice_number: str = Field(description=\"Unique identifier for the invoice\")\n",
        "    business_info: ContactInformation = Field(description=\"Your business details\")\n",
        "    customer_info: ContactInformation = Field(description=\"Client details\")\n",
        "    items: List[Item] = Field(description=\"List of itemized goods or services\")\n",
        "    tax: float = Field(description=\"Applicable tax amount\")\n",
        "    total: float = Field(description=\"Total amount after tax\")\n",
        "    payment_methods: Optional[str] = Field(default=None, description=\"Payment methods (e.g., Bank details, PayPal)\")\n",
        "\n"
      ],
      "metadata": {
        "id": "2cHCCpfhjLyf"
      },
      "execution_count": 37,
      "outputs": []
    },
    {
      "cell_type": "code",
      "source": [
        "result = extract_structured_data(\"/content/sample-invoice.pdf\", Invoice_2)\n",
        "print(result)"
      ],
      "metadata": {
        "colab": {
          "base_uri": "https://localhost:8080/"
        },
        "id": "Xr_shxWqjQCq",
        "outputId": "28a69b17-579e-46cc-bce1-5b0f38634b00"
      },
      "execution_count": 38,
      "outputs": [
        {
          "output_type": "stream",
          "name": "stdout",
          "text": [
            "invoice_number='123100401' business_info=ContactInformation(name='CPB Software (Germany) GmbH', address='Im Bruch 3 - 63897 Miltenberg/Main', phone=None, email='info@cpb-software.com') customer_info=ContactInformation(name='Mr. John Doe', address='Musterstr. 23\\n12345 Musterstadt', phone=None, email=None) items=[Item(description='Basic Fee wmView', quantity=1.0, unit_price=130.0, subtotal=130.0), Item(description='Basis fee for additional user accounts', quantity=0.0, unit_price=10.0, subtotal=0.0), Item(description='Basic Fee wmGuide', quantity=0.0, unit_price=50.0, subtotal=0.0), Item(description='Change of user accounts', quantity=0.0, unit_price=1000.0, subtotal=0.0), Item(description='Transaction Fee T1', quantity=0.0, unit_price=10.0, subtotal=0.0), Item(description='Transaction Fee T1', quantity=14.0, unit_price=0.58, subtotal=8.12), Item(description='Transaction Fee T2', quantity=0.0, unit_price=0.7, subtotal=0.0), Item(description='Transaction Fee T3', quantity=162.0, unit_price=1.5, subtotal=243.0), Item(description='Transaction Fee T4', quantity=0.0, unit_price=0.5, subtotal=0.0), Item(description='Transaction Fee T5', quantity=0.0, unit_price=0.8, subtotal=0.0), Item(description='Transaction Fee T6', quantity=0.0, unit_price=1.8, subtotal=0.0), Item(description='Transaction Fee G1', quantity=0.0, unit_price=0.3, subtotal=0.0), Item(description='Transaction Fee G2', quantity=0.0, unit_price=0.3, subtotal=0.0), Item(description='Transaction Fee G3', quantity=0.0, unit_price=0.4, subtotal=0.0), Item(description='Transaction Fee G4', quantity=0.0, unit_price=0.4, subtotal=0.0), Item(description='Transaction Fee G5', quantity=0.0, unit_price=0.3, subtotal=0.0), Item(description='Transaction Fee G6', quantity=0.0, unit_price=0.3, subtotal=0.0)] tax=72.41 total=453.53 payment_methods='IBAN DE29 1234 5678 9012 3456 78 | BIC GENODE51MIC (SEPA Credit Transfer)'\n"
          ]
        }
      ]
    },
    {
      "cell_type": "code",
      "source": [
        "def extract_structured_data_json(file_path: str, model: BaseModel):\n",
        "    # Upload the file to the File API\n",
        "    file = client.files.upload(file=file_path, config={'display_name': file_path.split('/')[-1].split('.')[0]})\n",
        "    # Generate a structured response using the Gemini API\n",
        "    prompt = f\"Extract the structured data from the following PDF file\"\n",
        "    response = client.models.generate_content(model=model_id, contents=[prompt, file], config={'response_mime_type': 'application/json', 'response_schema': model})\n",
        "    # Convert the response to the pydantic model and return it\n",
        "    return response.text"
      ],
      "metadata": {
        "id": "DR6pSiOfjSiJ"
      },
      "execution_count": 40,
      "outputs": []
    },
    {
      "cell_type": "code",
      "source": [
        "result = extract_structured_data_json(\"/content/sample-invoice.pdf\", Invoice_2)\n",
        "print(result)"
      ],
      "metadata": {
        "colab": {
          "base_uri": "https://localhost:8080/"
        },
        "id": "VBAhLDqIjUbu",
        "outputId": "a92f2737-04aa-4f0d-c1ea-d08f73df258f"
      },
      "execution_count": 41,
      "outputs": [
        {
          "output_type": "stream",
          "name": "stdout",
          "text": [
            "{\n",
            "  \"invoice_number\": \"123100401\",\n",
            "  \"business_info\": {\n",
            "    \"name\": \"CPB SOFTWARE (GERMANY) GMBH\",\n",
            "    \"address\": \"Im Bruch 3, 63897 Miltenberg\",\n",
            "    \"phone\": \"+49 9371 9786 0\",\n",
            "    \"email\": \"germany@cpb-software.com\"\n",
            "  },\n",
            "  \"customer_info\": {\n",
            "    \"name\": \"Mr. John Doe\",\n",
            "    \"address\": \"Musterstr. 23\\n12345 Musterstadt\",\n",
            "    \"phone\": null,\n",
            "    \"email\": null\n",
            "  },\n",
            "  \"items\": [\n",
            "    {\n",
            "      \"description\": \"Basic Fee wmView\",\n",
            "      \"quantity\": 1.0,\n",
            "      \"unit_price\": 130.0,\n",
            "      \"subtotal\": 130.0\n",
            "    },\n",
            "    {\n",
            "      \"description\": \"Basis fee for additional user accounts\",\n",
            "      \"quantity\": 0.0,\n",
            "      \"unit_price\": 10.0,\n",
            "      \"subtotal\": 0.0\n",
            "    },\n",
            "    {\n",
            "      \"description\": \"Basic Fee wmPos\",\n",
            "      \"quantity\": 0.0,\n",
            "      \"unit_price\": 50.0,\n",
            "      \"subtotal\": 0.0\n",
            "    },\n",
            "    {\n",
            "      \"description\": \"Basic Fee wmGuide\",\n",
            "      \"quantity\": 0.0,\n",
            "      \"unit_price\": 1000.0,\n",
            "      \"subtotal\": 0.0\n",
            "    },\n",
            "    {\n",
            "      \"description\": \"Change of user accounts\",\n",
            "      \"quantity\": 0.0,\n",
            "      \"unit_price\": 10.0,\n",
            "      \"subtotal\": 0.0\n",
            "    },\n",
            "    {\n",
            "      \"description\": \"Transaction Fee T1\",\n",
            "      \"quantity\": 14.0,\n",
            "      \"unit_price\": 0.58,\n",
            "      \"subtotal\": 8.12\n",
            "    },\n",
            "    {\n",
            "      \"description\": \"Transaction Fee T2\",\n",
            "      \"quantity\": 0.0,\n",
            "      \"unit_price\": 0.7,\n",
            "      \"subtotal\": 0.0\n",
            "    },\n",
            "    {\n",
            "      \"description\": \"Transaction Fee T3\",\n",
            "      \"quantity\": 162.0,\n",
            "      \"unit_price\": 1.5,\n",
            "      \"subtotal\": 243.0\n",
            "    },\n",
            "    {\n",
            "      \"description\": \"Transaction Fee T4\",\n",
            "      \"quantity\": 0.0,\n",
            "      \"unit_price\": 0.5,\n",
            "      \"subtotal\": 0.0\n",
            "    },\n",
            "    {\n",
            "      \"description\": \"Transaction Fee T5\",\n",
            "      \"quantity\": 0.0,\n",
            "      \"unit_price\": 0.8,\n",
            "      \"subtotal\": 0.0\n",
            "    },\n",
            "    {\n",
            "      \"description\": \"Transaction Fee T6\",\n",
            "      \"quantity\": 0.0,\n",
            "      \"unit_price\": 1.8,\n",
            "      \"subtotal\": 0.0\n",
            "    },\n",
            "    {\n",
            "      \"description\": \"Transaction Fee G1\",\n",
            "      \"quantity\": 0.0,\n",
            "      \"unit_price\": 0.3,\n",
            "      \"subtotal\": 0.0\n",
            "    },\n",
            "    {\n",
            "      \"description\": \"Transaction Fee G2\",\n",
            "      \"quantity\": 0.0,\n",
            "      \"unit_price\": 0.3,\n",
            "      \"subtotal\": 0.0\n",
            "    },\n",
            "    {\n",
            "      \"description\": \"Transaction Fee G3\",\n",
            "      \"quantity\": 0.0,\n",
            "      \"unit_price\": 0.4,\n",
            "      \"subtotal\": 0.0\n",
            "    },\n",
            "    {\n",
            "      \"description\": \"Transaction Fee G4\",\n",
            "      \"quantity\": 0.0,\n",
            "      \"unit_price\": 0.4,\n",
            "      \"subtotal\": 0.0\n",
            "    },\n",
            "    {\n",
            "      \"description\": \"Transaction Fee G5\",\n",
            "      \"quantity\": 0.0,\n",
            "      \"unit_price\": 0.3,\n",
            "      \"subtotal\": 0.0\n",
            "    },\n",
            "    {\n",
            "      \"description\": \"Transaction Fee G6\",\n",
            "      \"quantity\": 0.0,\n",
            "      \"unit_price\": 0.3,\n",
            "      \"subtotal\": 0.0\n",
            "    }\n",
            "  ],\n",
            "  \"tax\": 72.41,\n",
            "  \"total\": 453.53,\n",
            "  \"payment_methods\": \"IBAN DE29 1234 5678 9012 3456 78 | BIC GENODE51MIC (SEPA Credit Transfer)\"\n",
            "}\n"
          ]
        }
      ]
    },
    {
      "cell_type": "code",
      "source": [
        "import gradio as gr\n",
        "import json"
      ],
      "metadata": {
        "id": "HwQiiyC5jVYh"
      },
      "execution_count": 42,
      "outputs": []
    },
    {
      "cell_type": "code",
      "source": [
        "def extract_structured_data_json(file_path: str, model: BaseModel):\n",
        "    # Upload the file to the File API\n",
        "    file = client.files.upload(file=file_path, config={'display_name': file_path.split('/')[-1].split('.')[0]})\n",
        "    # Generate a structured response using the Gemini API\n",
        "    prompt = f\"Extract the structured data from the following PDF file\"\n",
        "    response = client.models.generate_content(model=model_id, contents=[prompt, file], config={'response_mime_type': 'application/json', 'response_schema': model})\n",
        "    # Convert the response to the pydantic model and return it\n",
        "    return response.text\n",
        "\n",
        "# Gradio interface with a themed layout\n",
        "with gr.Blocks(theme=gr.themes.Soft(), css=\"body {background-color: #1e1e2f; color: white;} .container {padding: 20px;} .gr-block {overflow: visible; max-height: none;}\") as app:\n",
        "    gr.Markdown(\"## 🧾 Invoice Parser - Structured JSON Extractor\", elem_id=\"title\")\n",
        "\n",
        "    with gr.Row():\n",
        "        with gr.Column():\n",
        "            file_input = gr.File(label=\"Upload Your Document or Image\", file_types=[\".pdf\", \".docx\", \".txt\", \".png\", \".jpg\", \".jpeg\"], interactive=True)\n",
        "            file_viewer = gr.Image(label=\"Uploaded File Preview\", elem_classes=[\"file-preview\"])\n",
        "            process_button = gr.Button(\"Process File\")\n",
        "\n",
        "        with gr.Column():\n",
        "            output_text = gr.JSON(label=\"Parsed JSON Output\", elem_classes=[\"output-area\"])\n",
        "\n",
        "    # Handle the file processing logic\n",
        "    def process_file(file_obj):\n",
        "        if file_obj:\n",
        "            return json.loads(extract_structured_data_json(file_obj.name, Invoice_2))\n",
        "        return {\"error\": \"Please upload a file.\"}\n",
        "\n",
        "    def show_uploaded_file(file_obj):\n",
        "        if file_obj:\n",
        "            return file_obj.name\n",
        "\n",
        "    file_input.change(show_uploaded_file, inputs=file_input, outputs=file_viewer)\n",
        "    process_button.click(process_file, inputs=file_input, outputs=output_text)\n",
        "\n",
        "    gr.Markdown(\"---\")\n",
        "    gr.Markdown(\"Built By Adela with ❤️ using Gradio\")\n",
        "\n",
        "app.launch()\n"
      ],
      "metadata": {
        "colab": {
          "base_uri": "https://localhost:8080/",
          "height": 646
        },
        "id": "tbFH6D36jXh-",
        "outputId": "ea6c30dc-12c9-47f1-97c0-c7e9836edf74"
      },
      "execution_count": 43,
      "outputs": [
        {
          "output_type": "stream",
          "name": "stdout",
          "text": [
            "It looks like you are running Gradio on a hosted a Jupyter notebook. For the Gradio app to work, sharing must be enabled. Automatically setting `share=True` (you can turn this off by setting `share=False` in `launch()` explicitly).\n",
            "\n",
            "Colab notebook detected. To show errors in colab notebook, set debug=True in launch()\n",
            "* Running on public URL: https://7916ece22b223e5a73.gradio.live\n",
            "\n",
            "This share link expires in 1 week. For free permanent hosting and GPU upgrades, run `gradio deploy` from the terminal in the working directory to deploy to Hugging Face Spaces (https://huggingface.co/spaces)\n"
          ]
        },
        {
          "output_type": "display_data",
          "data": {
            "text/plain": [
              "<IPython.core.display.HTML object>"
            ],
            "text/html": [
              "<div><iframe src=\"https://7916ece22b223e5a73.gradio.live\" width=\"100%\" height=\"500\" allow=\"autoplay; camera; microphone; clipboard-read; clipboard-write;\" frameborder=\"0\" allowfullscreen></iframe></div>"
            ]
          },
          "metadata": {}
        },
        {
          "output_type": "execute_result",
          "data": {
            "text/plain": []
          },
          "metadata": {},
          "execution_count": 43
        }
      ]
    }
  ]
}
